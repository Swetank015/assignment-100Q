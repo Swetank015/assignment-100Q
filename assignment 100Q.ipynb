{
  "nbformat": 4,
  "nbformat_minor": 0,
  "metadata": {
    "colab": {
      "provenance": []
    },
    "kernelspec": {
      "name": "python3",
      "display_name": "Python 3"
    },
    "language_info": {
      "name": "python"
    }
  },
  "cells": [
    {
      "cell_type": "markdown",
      "source": [
        "\n",
        "**Q1. Write a code to reverse a string.**\n",
        "\n"
      ],
      "metadata": {
        "id": "BkTwjQFcoS70"
      }
    },
    {
      "cell_type": "code",
      "source": [
        "def reverse_string(s):\n",
        "    return s[::-1]\n",
        "\n",
        "# Example usage\n",
        "example_string = 'Hello, World!'\n",
        "reversed_string = reverse_string(example_string)\n",
        "print('Original String:', example_string)\n",
        "print('Reversed String:', reversed_string)"
      ],
      "metadata": {
        "colab": {
          "base_uri": "https://localhost:8080/"
        },
        "id": "3jwaoD1wq2Bf",
        "outputId": "8ba5d720-11dc-4696-90d8-07901dcae4f9"
      },
      "execution_count": null,
      "outputs": [
        {
          "output_type": "stream",
          "name": "stdout",
          "text": [
            "Original String: Hello, World!\n",
            "Reversed String: !dlroW ,olleH\n"
          ]
        }
      ]
    },
    {
      "cell_type": "markdown",
      "source": [
        "**Q2.  Write a code to count the number of vowles in a string.**"
      ],
      "metadata": {
        "id": "l2nnHiRgty6u"
      }
    },
    {
      "cell_type": "code",
      "source": [
        "def vowel_count(string):\n",
        "  vowels = \"aeiouAEIOU\"\n",
        "  count = 0\n",
        "\n",
        "  for char in string:\n",
        "    if char in vowels:\n",
        "      count += 1\n",
        "\n",
        "  return count\n",
        "\n",
        "# Example usage\n",
        "string = \"Hello, How are you today\"\n",
        "vowel_count = vowel_count(string)\n",
        "print(\"Number of vowels:\", vowel_count)\n",
        "\n"
      ],
      "metadata": {
        "colab": {
          "base_uri": "https://localhost:8080/"
        },
        "id": "EIg-QMbdwcNs",
        "outputId": "ba676419-c406-4cf7-deff-72bbe3bf2e87"
      },
      "execution_count": null,
      "outputs": [
        {
          "output_type": "stream",
          "name": "stdout",
          "text": [
            "Number of vowels: 9\n"
          ]
        }
      ]
    },
    {
      "cell_type": "markdown",
      "source": [
        "**Q3. Write a code to check if a given string is a  palindrome or not.**"
      ],
      "metadata": {
        "id": "JZTS0HsV4IKU"
      }
    },
    {
      "cell_type": "code",
      "source": [
        "def is_palindrome(string):\n",
        "    # Remove any non-alphanumeric characters and convert to lowercase\n",
        "    cleaned_string = ''.join(char.lower() for char in string if char.isalnum())\n",
        "\n",
        "    # Compare the cleaned string with its reversed version\n",
        "    return cleaned_string == cleaned_string[::-1]\n",
        "\n",
        "# Example usage\n",
        "input_string = input(\"Enter a string: \")\n",
        "if is_palindrome(input_string):\n",
        "    print(\"The string is a palindrome.\")\n",
        "else:\n",
        "    print(\"The string is not a palindrome.\")"
      ],
      "metadata": {
        "colab": {
          "base_uri": "https://localhost:8080/"
        },
        "id": "NiPWzu6V5Cc4",
        "outputId": "bf7cf28a-015b-4cb5-c547-a4da0c7f305d"
      },
      "execution_count": null,
      "outputs": [
        {
          "output_type": "stream",
          "name": "stdout",
          "text": [
            "Enter a string: 121\n",
            "The string is a palindrome.\n"
          ]
        }
      ]
    },
    {
      "cell_type": "markdown",
      "source": [
        "**Q4. Write a code to check if two given strings are anagrams of each other.**"
      ],
      "metadata": {
        "id": "ZYGxPZxVLi-L"
      }
    },
    {
      "cell_type": "code",
      "source": [
        "def are_anagrams(string1, string2):\n",
        "  # Convert both strings to lowercase\n",
        "  string1 = string1.lower()\n",
        "  string2 = string2.lower()\n",
        "\n",
        "  # Sort the characters in each string\n",
        "  sorted_string1 = sorted(string1)\n",
        "  sorted_string2 = sorted(string2)\n",
        "\n",
        "  # Compare the sorted strings\n",
        "  return sorted_string1 == sorted_string2\n",
        "\n",
        "# Example usage:\n",
        "string1 = \"listen\"\n",
        "string2 = \"silent\"\n",
        "are_anagrams = are_anagrams(string1, string2)\n",
        "print(are_anagrams)"
      ],
      "metadata": {
        "colab": {
          "base_uri": "https://localhost:8080/"
        },
        "id": "yckHHVMSP95D",
        "outputId": "9dfe77f0-df6a-44ec-9099-bc437d4c54ba"
      },
      "execution_count": null,
      "outputs": [
        {
          "output_type": "stream",
          "name": "stdout",
          "text": [
            "True\n"
          ]
        }
      ]
    },
    {
      "cell_type": "markdown",
      "source": [
        "**Q5. Write a code to find all occurrences of a given substring within another string**"
      ],
      "metadata": {
        "id": "uxteYzedoU2Z"
      }
    },
    {
      "cell_type": "code",
      "source": [
        "def find_substring_occurrences(string, substring):\n",
        "  indices = []\n",
        "  start = 0\n",
        "  while start < len(string):\n",
        "    index = string.find(substring, start)\n",
        "    if index == -1:\n",
        "      break\n",
        "    indices.append(index)\n",
        "    start = index + 1\n",
        "  return indices\n",
        "\n",
        "# Example usage:\n",
        "string = \"swetank\"\n",
        "substring = \"tank\"\n",
        "occurrences = find_substring_occurrences(string, substring)\n",
        "print(occurrences)"
      ],
      "metadata": {
        "colab": {
          "base_uri": "https://localhost:8080/"
        },
        "id": "UnDafhTOmv-X",
        "outputId": "3510ed4b-ce69-45d5-cd51-2800d73bb116"
      },
      "execution_count": null,
      "outputs": [
        {
          "output_type": "stream",
          "name": "stdout",
          "text": [
            "[3]\n"
          ]
        }
      ]
    },
    {
      "cell_type": "markdown",
      "source": [
        "**Q6. Write a  code to perform basic string compression using the counts of repeated characters**"
      ],
      "metadata": {
        "id": "GnPsSumObmbE"
      }
    },
    {
      "cell_type": "code",
      "source": [
        "def string_compression(string):\n",
        "  compressed_string = \"\"\n",
        "  count = 1\n",
        "  for i in range(1, len(string)):\n",
        "    if string[i] == string[i - 1]:\n",
        "      count += 1\n",
        "    else:\n",
        "      compressed_string += string[i - 1] + str(count)\n",
        "      count = 1\n",
        "  compressed_string += string[-1] + str(count)\n",
        "  return compressed_string\n",
        "\n",
        "# Example usage:\n",
        "string = \"aabbcccccaaa\"\n",
        "compressed_string = string_compression(string)\n",
        "print(compressed_string)"
      ],
      "metadata": {
        "id": "wukh2GW_wC7M",
        "colab": {
          "base_uri": "https://localhost:8080/"
        },
        "outputId": "39d8a367-b287-4c61-b612-0d003e807b84"
      },
      "execution_count": null,
      "outputs": [
        {
          "output_type": "stream",
          "name": "stdout",
          "text": [
            "a2b2c5a3\n"
          ]
        }
      ]
    },
    {
      "cell_type": "markdown",
      "source": [
        "**Q7. Write a code to determine if a string has all unique characters.**"
      ],
      "metadata": {
        "id": "ChC8d4-Sn4Sg"
      }
    },
    {
      "cell_type": "code",
      "source": [
        "def has_unique_characters(string):\n",
        "  character_set = set()\n",
        "  for char in string:\n",
        "    if char in character_set:\n",
        "      return False\n",
        "    character_set.add(char)\n",
        "  return True\n",
        "\n",
        "# Example usage:\n",
        "string1 = \"abcde\"\n",
        "string2 = \"hello\"\n",
        "print(has_unique_characters(string1))\n",
        "print(has_unique_characters(string2))"
      ],
      "metadata": {
        "colab": {
          "base_uri": "https://localhost:8080/"
        },
        "id": "aOC5WOxiQaZT",
        "outputId": "78f793ba-97cd-45f0-802a-d8f4cb3ddd8a"
      },
      "execution_count": null,
      "outputs": [
        {
          "output_type": "stream",
          "name": "stdout",
          "text": [
            "True\n",
            "False\n"
          ]
        }
      ]
    },
    {
      "cell_type": "markdown",
      "source": [
        "**Q8. Write a code to convert a given string to uppercase or lowercase.**"
      ],
      "metadata": {
        "id": "lssewxkUVZew"
      }
    },
    {
      "cell_type": "code",
      "source": [
        "def convert_case(string, case):\n",
        "  if case == 'upper':\n",
        "    return string.upper()\n",
        "  elif case == 'lower':\n",
        "    return string.lower()\n",
        "  else:\n",
        "    raise ValueError(\"Invalid case: must be 'upper' or 'lower'\")\n",
        "\n",
        "# Example usage:\n",
        "string = \"Hello, World!\"\n",
        "uppercase_string = convert_case(string, \"upper\")\n",
        "lowercase_string = convert_case(string, \"lower\")\n",
        "print(uppercase_string)\n",
        "print(lowercase_string)\n",
        "\n"
      ],
      "metadata": {
        "colab": {
          "base_uri": "https://localhost:8080/"
        },
        "id": "ezs_eanbS5Jw",
        "outputId": "7bd3f126-bfed-463e-bee4-84ff23e6d203"
      },
      "execution_count": null,
      "outputs": [
        {
          "output_type": "stream",
          "name": "stdout",
          "text": [
            "HELLO, WORLD!\n",
            "hello, world!\n"
          ]
        }
      ]
    },
    {
      "cell_type": "markdown",
      "source": [
        "**Q9. Write a code to count the number of words in a string.**"
      ],
      "metadata": {
        "id": "qek6VVolYQ6R"
      }
    },
    {
      "cell_type": "code",
      "source": [
        "def count_words(string):\n",
        "  words = string.split()\n",
        "  return len(words)\n",
        "\n",
        "# Example usage:\n",
        "string = \"This is a sentence with five words.\"\n",
        "word_count = count_words(string)\n",
        "print(\"The number of words in the string is:\", word_count)"
      ],
      "metadata": {
        "colab": {
          "base_uri": "https://localhost:8080/"
        },
        "id": "K6F1kh2fWx1q",
        "outputId": "c3b64043-e50d-4fd7-8d97-8b6237a8122a"
      },
      "execution_count": null,
      "outputs": [
        {
          "output_type": "stream",
          "name": "stdout",
          "text": [
            "The number of words in the string is: 7\n"
          ]
        }
      ]
    },
    {
      "cell_type": "markdown",
      "source": [
        "**Q10.Write a code to concatenate two strings without using the + operator.**"
      ],
      "metadata": {
        "id": "ZXZ6kk-yt7Fh"
      }
    },
    {
      "cell_type": "code",
      "source": [
        "def concatenate_strings(string1, string2):\n",
        "  result = \"\"\n",
        "  for char in string1:\n",
        "    result += char\n",
        "  for char in string2:\n",
        "    result += char\n",
        "  return result\n",
        "\n",
        "# Example usage:\n",
        "string1 = \"Hello\"\n",
        "string2 = \" World\"\n",
        "concatenated_string = concatenate_strings(string1, string2)\n",
        "print(concatenated_string)"
      ],
      "metadata": {
        "colab": {
          "base_uri": "https://localhost:8080/"
        },
        "id": "hKOBoVgqhHSJ",
        "outputId": "69d75305-2261-478e-edde-77c5dfd2f874"
      },
      "execution_count": null,
      "outputs": [
        {
          "output_type": "stream",
          "name": "stdout",
          "text": [
            "Hello World\n"
          ]
        }
      ]
    },
    {
      "cell_type": "markdown",
      "source": [
        "**Q11.Write a code to remove all occurrences of a specific element from a list.**"
      ],
      "metadata": {
        "id": "ZqR__Jr7Mifo"
      }
    },
    {
      "cell_type": "code",
      "source": [
        "def remove_element(lst, element):\n",
        "  while element in lst:\n",
        "    lst.remove(element)\n",
        "  return lst\n",
        "\n",
        "# Example usage:\n",
        "lst = [1, 2, 3, 2, 4, 2, 5]\n",
        "element_to_remove = 2\n",
        "modified_lst = remove_element(lst, element_to_remove)\n",
        "print(modified_lst)"
      ],
      "metadata": {
        "colab": {
          "base_uri": "https://localhost:8080/"
        },
        "id": "-ikBMwdWHGBy",
        "outputId": "b83a1e9d-d41d-4b48-8e82-0f6b11bd9121"
      },
      "execution_count": null,
      "outputs": [
        {
          "output_type": "stream",
          "name": "stdout",
          "text": [
            "[1, 3, 4, 5]\n"
          ]
        }
      ]
    },
    {
      "cell_type": "markdown",
      "source": [
        "**Q12. Implement a code to find the second largest number in a given list of integers.**"
      ],
      "metadata": {
        "id": "H-nxfxdZNihl"
      }
    },
    {
      "cell_type": "code",
      "source": [
        "def second_largest(numbers):\n",
        "  if len(numbers) < 2:\n",
        "    return None\n",
        "\n",
        "  largest = max(numbers)\n",
        "  second_largest = None\n",
        "\n",
        "  for num in numbers:\n",
        "    if num != largest and (second_largest is None or num > second_largest):\n",
        "      second_largest = num\n",
        "\n",
        "  return second_largest\n",
        "\n",
        "# Example usage:\n",
        "numbers = [5, 2, 9, 3, 7]\n",
        "result = second_largest(numbers)\n",
        "print(\"Second largest number:\", result)"
      ],
      "metadata": {
        "colab": {
          "base_uri": "https://localhost:8080/"
        },
        "id": "P6oosxVvN_Qz",
        "outputId": "949074c0-15eb-45dd-d526-98799e1e9453"
      },
      "execution_count": null,
      "outputs": [
        {
          "output_type": "stream",
          "name": "stdout",
          "text": [
            "Second largest number: 7\n"
          ]
        }
      ]
    },
    {
      "cell_type": "markdown",
      "source": [
        "**Q13. Create a code to count the occurrences of each element in a list and return a dictionary with elements as keys and their counts as value.**"
      ],
      "metadata": {
        "id": "hSaK13JCPU7Q"
      }
    },
    {
      "cell_type": "code",
      "source": [
        "def count_occurrences(elements):\n",
        "  occurrence_dict = {}\n",
        "  for element in elements:\n",
        "    if element in occurrence_dict:\n",
        "      occurrence_dict[element] += 1\n",
        "    else:\n",
        "      occurrence_dict[element] = 1\n",
        "  return occurrence_dict\n",
        "\n",
        "# Example usage:\n",
        "elements = [1, 2, 3, 2, 1, 4, 1]\n",
        "result = count_occurrences(elements)\n",
        "print(result)"
      ],
      "metadata": {
        "colab": {
          "base_uri": "https://localhost:8080/"
        },
        "id": "V52wrRaaPKjF",
        "outputId": "3be47119-e11b-4c89-ef1b-73b4e1aa6817"
      },
      "execution_count": null,
      "outputs": [
        {
          "output_type": "stream",
          "name": "stdout",
          "text": [
            "{1: 3, 2: 2, 3: 1, 4: 1}\n"
          ]
        }
      ]
    },
    {
      "cell_type": "markdown",
      "source": [
        "**Q14. Write a code to reverse a list in-place without using any\n",
        " built-in reverse functions.**"
      ],
      "metadata": {
        "id": "3wo9UxgWRUjE"
      }
    },
    {
      "cell_type": "code",
      "source": [
        "def reverse_list_in_place(lst):\n",
        "  left = 0\n",
        "  right = len(lst) - 1\n",
        "\n",
        "  while left < right:\n",
        "    lst[left], lst[right] = lst[right], lst[left]\n",
        "    left += 1\n",
        "    right -= 1\n",
        "\n",
        "# Example usage:\n",
        "my_list = [1, 2, 3, 4, 5]\n",
        "reverse_list_in_place(my_list)\n",
        "print(my_list)  # Output: [5, 4, 3, 2, 1]"
      ],
      "metadata": {
        "colab": {
          "base_uri": "https://localhost:8080/"
        },
        "id": "efoA1FSfQ9DF",
        "outputId": "7c7db789-83c6-4f42-d32d-43a7c19cb605"
      },
      "execution_count": null,
      "outputs": [
        {
          "output_type": "stream",
          "name": "stdout",
          "text": [
            "[5, 4, 3, 2, 1]\n"
          ]
        }
      ]
    },
    {
      "cell_type": "markdown",
      "source": [
        "**Q15.  Implement a code to find and remove duplicates from a list while preserving the original order of elements**"
      ],
      "metadata": {
        "id": "Sf-yqADOT28j"
      }
    },
    {
      "cell_type": "code",
      "source": [
        "def remove_duplicates_preserving_order(lst):\n",
        "  seen = set()\n",
        "  result = []\n",
        "  for element in lst:\n",
        "    if element not in seen:\n",
        "      seen.add(element)\n",
        "      result.append(element)\n",
        "  return result\n",
        "\n",
        "# Example usage:\n",
        "my_list = [1, 2, 3, 2, 4, 1, 5]\n",
        "result = remove_duplicates_preserving_order(my_list)\n",
        "print(result)"
      ],
      "metadata": {
        "colab": {
          "base_uri": "https://localhost:8080/"
        },
        "id": "Ag8avdrhTdOc",
        "outputId": "a910331c-b8e4-429a-cb97-6851c5c4a549"
      },
      "execution_count": null,
      "outputs": [
        {
          "output_type": "stream",
          "name": "stdout",
          "text": [
            "[1, 2, 3, 4, 5]\n"
          ]
        }
      ]
    },
    {
      "cell_type": "markdown",
      "source": [
        "**Q16.Create a code to check if a given list is sorted (either in ascending or dscending order) or not**"
      ],
      "metadata": {
        "id": "WZEvf0CSUsmv"
      }
    },
    {
      "cell_type": "code",
      "source": [
        "def is_sorted(lst):\n",
        "  if len(lst) <= 1:\n",
        "    return True\n",
        "\n",
        "  # Check if the list is sorted in ascending order\n",
        "  if all(lst[i] <= lst[i+1] for i in range(len(lst)-1)):\n",
        "    return True\n",
        "\n",
        "  # Check if the list is sorted in descending order\n",
        "  if all(lst[i] >= lst[i+1] for i in range(len(lst)-1)):\n",
        "    return True\n",
        "\n",
        "  return False\n",
        "\n",
        "# Example usage:\n",
        "ascending_list = [1, 2, 3, 4, 5]\n",
        "descending_list = [5, 4, 3, 2, 1]\n",
        "unsorted_list = [3, 1, 4, 2, 5]\n",
        "\n",
        "print(is_sorted(ascending_list))\n",
        "print(is_sorted(descending_list))\n",
        "print(is_sorted(unsorted_list))"
      ],
      "metadata": {
        "colab": {
          "base_uri": "https://localhost:8080/"
        },
        "id": "lDqdIu_NWNzQ",
        "outputId": "6ab30198-17de-4e96-e8cd-8dfe0e911c1e"
      },
      "execution_count": null,
      "outputs": [
        {
          "output_type": "stream",
          "name": "stdout",
          "text": [
            "True\n",
            "True\n",
            "False\n"
          ]
        }
      ]
    },
    {
      "cell_type": "markdown",
      "source": [
        "**Q17. Write a code to merge two sorted lists into a single sorted lists.**"
      ],
      "metadata": {
        "id": "sQHBL7mLXGpV"
      }
    },
    {
      "cell_type": "code",
      "source": [
        "def merge_sorted_lists(list1, list2):\n",
        "  merged_list = []\n",
        "  i = 0\n",
        "  j = 0\n",
        "\n",
        "  while i < len(list1) and j < len(list2):\n",
        "    if list1[i] <= list2[j]:\n",
        "      merged_list.append(list1[i])\n",
        "      i += 1\n",
        "    else:\n",
        "      merged_list.append(list2[j])\n",
        "      j += 1\n",
        "\n",
        "  merged_list += list1[i:]\n",
        "  merged_list += list2[j:]\n",
        "\n",
        "  return merged_list\n",
        "\n",
        "# Example usage:\n",
        "list1 = [1, 3, 5]\n",
        "list2 = [2, 4, 6]\n",
        "merged_list = merge_sorted_lists(list1, list2)\n",
        "print(merged_list)"
      ],
      "metadata": {
        "colab": {
          "base_uri": "https://localhost:8080/"
        },
        "id": "fwtwemSdW3_s",
        "outputId": "d4846ad2-0126-4301-91b1-5b40dca4432a"
      },
      "execution_count": null,
      "outputs": [
        {
          "output_type": "stream",
          "name": "stdout",
          "text": [
            "[1, 2, 3, 4, 5, 6]\n"
          ]
        }
      ]
    },
    {
      "cell_type": "markdown",
      "source": [
        "**Q18. Implement a code to find the intersetion of two given lists.**"
      ],
      "metadata": {
        "id": "Lxs_EXEnYKRe"
      }
    },
    {
      "cell_type": "code",
      "source": [
        "def find_intersection(list1, list2):\n",
        "  intersection_list = []\n",
        "  set1 = set(list1)\n",
        "  set2 = set(list2)\n",
        "\n",
        "  for element in set1:\n",
        "    if element in set2:\n",
        "      intersection_list.append(element)\n",
        "\n",
        "  return intersection_list\n",
        "\n",
        "# Example usage:\n",
        "list1 = [1, 2, 3, 4, 5]\n",
        "list2 = [3, 4, 5, 6, 7]\n",
        "intersection = find_intersection(list1, list2)\n",
        "print(intersection)"
      ],
      "metadata": {
        "colab": {
          "base_uri": "https://localhost:8080/"
        },
        "id": "IaFrmI1nXvE5",
        "outputId": "469e224a-a84f-46ff-9c95-796d3287c35c"
      },
      "execution_count": null,
      "outputs": [
        {
          "output_type": "stream",
          "name": "stdout",
          "text": [
            "[3, 4, 5]\n"
          ]
        }
      ]
    },
    {
      "cell_type": "markdown",
      "source": [
        "**Q19. Create a code to find the union of two lists without duplicates.**"
      ],
      "metadata": {
        "id": "GIBPeJTvaJos"
      }
    },
    {
      "cell_type": "code",
      "source": [
        "def find_union(list1, list2):\n",
        "  union_set = set(list1 + list2)\n",
        "  return list(union_set)\n",
        "\n",
        "# Example usage:\n",
        "list1 = [1, 2, 3, 4, 5]\n",
        "list2 = [3, 4, 5, 6, 7]\n",
        "union = find_union(list1, list2)\n",
        "print(union)"
      ],
      "metadata": {
        "colab": {
          "base_uri": "https://localhost:8080/"
        },
        "id": "TQZ7-anuaB55",
        "outputId": "37c3bc14-ccf9-4fd5-d487-7b54b4adbef0"
      },
      "execution_count": null,
      "outputs": [
        {
          "output_type": "stream",
          "name": "stdout",
          "text": [
            "[1, 2, 3, 4, 5, 6, 7]\n"
          ]
        }
      ]
    },
    {
      "cell_type": "markdown",
      "source": [
        "**Q20.Write a code to shuffle a given list randomly\n",
        " without using any built-in shuffle functions.**"
      ],
      "metadata": {
        "id": "lId4pXY7oytE"
      }
    },
    {
      "cell_type": "code",
      "source": [
        "import random\n",
        "\n",
        "def shuffle_list(lst):\n",
        "  for i in range(len(lst)):\n",
        "    j = random.randint(i, len(lst) - 1)\n",
        "    lst[i], lst[j] = lst[j], lst[i]\n",
        "\n",
        "# Example usage:\n",
        "my_list = [1, 2, 3, 4, 5]\n",
        "shuffle_list(my_list)\n",
        "print(my_list)"
      ],
      "metadata": {
        "colab": {
          "base_uri": "https://localhost:8080/"
        },
        "id": "O8C-d4n-alVI",
        "outputId": "3574088e-c9ce-4638-b0ed-b3496cff8618"
      },
      "execution_count": null,
      "outputs": [
        {
          "output_type": "stream",
          "name": "stdout",
          "text": [
            "[1, 2, 3, 4, 5]\n"
          ]
        }
      ]
    },
    {
      "cell_type": "markdown",
      "source": [
        "**Q21.Write a code that takes two tuples as input and returns a new tuple containing elements that are\n",
        "common to both input tuples.**"
      ],
      "metadata": {
        "id": "VxGz92DnqUIv"
      }
    },
    {
      "cell_type": "code",
      "source": [
        "def find_common_elements(tuple1, tuple2):\n",
        "  set1 = set(tuple1)\n",
        "  set2 = set(tuple2)\n",
        "  common_elements = tuple(set1.intersection(set2))\n",
        "  return common_elements\n",
        "\n",
        "# Example usage:\n",
        "tuple1 = (1, 2, 3, 4, 5)\n",
        "tuple2 = (3, 4, 5, 6, 7)\n",
        "common_elements = find_common_elements(tuple1, tuple2)\n",
        "print(common_elements)"
      ],
      "metadata": {
        "colab": {
          "base_uri": "https://localhost:8080/"
        },
        "id": "GlKLRVcDps18",
        "outputId": "7b58060c-9f4a-4b29-b3cf-8954fdec0ca5"
      },
      "execution_count": null,
      "outputs": [
        {
          "output_type": "stream",
          "name": "stdout",
          "text": [
            "(3, 4, 5)\n"
          ]
        }
      ]
    },
    {
      "cell_type": "markdown",
      "source": [
        "**Q22. Create a code that prompts the user to enter two sets of integers separated by\n",
        " commas. Then print the\n",
        "intersection of these two sets.**"
      ],
      "metadata": {
        "id": "5ag-kZU5rcwo"
      }
    },
    {
      "cell_type": "code",
      "source": [
        "def find_intersection(set1, set2):\n",
        "  return set1.intersection(set2)\n",
        "\n",
        "def get_integer_set(prompt):\n",
        "  while True:\n",
        "    try:\n",
        "      input_str = input(prompt)\n",
        "      elements = [int(x) for x in input_str.split(\",\")]\n",
        "      return set(elements)\n",
        "    except ValueError:\n",
        "      print(\"Invalid input. Please enter integers separated by commas.\")\n",
        "\n",
        "# Get input from the user\n",
        "set1 = get_integer_set(\"Enter the first set of integers (separated by commas): \")\n",
        "set2 = get_integer_set(\"Enter the second set of integers (separated by commas): \")\n",
        "\n",
        "# Find the intersection\n",
        "intersection = find_intersection(set1, set2)\n",
        "\n",
        "# Print the result\n",
        "print(\"Intersection of the two sets:\", intersection)"
      ],
      "metadata": {
        "colab": {
          "base_uri": "https://localhost:8080/"
        },
        "id": "T6pfaV5jrSxN",
        "outputId": "6c425f83-d1fa-47e8-8cf0-26010b9c3891"
      },
      "execution_count": null,
      "outputs": [
        {
          "output_type": "stream",
          "name": "stdout",
          "text": [
            "Enter the first set of integers (separated by commas): 2,3,5,6\n",
            "Enter the second set of integers (separated by commas): 3,5,6,2\n",
            "Intersection of the two sets: {2, 3, 5, 6}\n"
          ]
        }
      ]
    },
    {
      "cell_type": "markdown",
      "source": [
        "**Q23. Write a code to concatenate two tuples. The function should take two tuples as input and return a new\n",
        "tuple containing elements from both input tuples.**"
      ],
      "metadata": {
        "id": "PyxWhENt3GTv"
      }
    },
    {
      "cell_type": "code",
      "source": [
        "def concatenate_tuples(tuple1, tuple2):\n",
        " return tuple1 + tuple2\n",
        "\n",
        "# Example usage:\n",
        "tuple1 = (1, 2, 3)\n",
        "tuple2 = (4, 5, 6)\n",
        "concatenated_tuple = concatenate_tuples(tuple1, tuple2)\n",
        "print(concatenated_tuple)"
      ],
      "metadata": {
        "colab": {
          "base_uri": "https://localhost:8080/"
        },
        "id": "tjbq_aG_tAKw",
        "outputId": "a8973a30-7bb0-4630-b8d7-9ea47baa8b9f"
      },
      "execution_count": null,
      "outputs": [
        {
          "output_type": "stream",
          "name": "stdout",
          "text": [
            "(1, 2, 3, 4, 5, 6)\n"
          ]
        }
      ]
    },
    {
      "cell_type": "markdown",
      "source": [
        "**Q24. Develop a code that prompts the user to input two sets of strings. Then print the elements that are\n",
        "present in the first set but not in the second set.**"
      ],
      "metadata": {
        "id": "t5r70-Z74RAD"
      }
    },
    {
      "cell_type": "code",
      "source": [
        "def find_elements_in_first_not_in_second(set1, set2):\n",
        "  return set1 - set2\n",
        "\n",
        "def get_string_set(prompt):\n",
        "  while True:\n",
        "    try:\n",
        "      input_str = input(prompt)\n",
        "      elements = input_str.split(\",\")\n",
        "      return set(elements)\n",
        "    except ValueError:\n",
        "      print(\"Invalid input. Please enter strings separated by commas.\")\n",
        "\n",
        "# Get input from the user\n",
        "set1 = get_string_set(\"Enter the first set of strings (separated by commas): \")\n",
        "set2 = get_string_set(\"Enter the second set of strings (separated by commas): \")\n",
        "\n",
        "# Find elements in the first set but not in the second set\n",
        "elements_in_first_not_in_second = find_elements_in_first_not_in_second(set1, set2)\n",
        "\n",
        "# Print the result\n",
        "print(\"Elements present in the first set but not in the second set:\", elements_in_first_not_in_second)"
      ],
      "metadata": {
        "colab": {
          "base_uri": "https://localhost:8080/"
        },
        "id": "mpvOSv5836T6",
        "outputId": "ed7b6939-ef62-4e08-de1b-94633658f5aa"
      },
      "execution_count": null,
      "outputs": [
        {
          "output_type": "stream",
          "name": "stdout",
          "text": [
            "Enter the first set of strings (separated by commas): 1,3,6,7\n",
            "Enter the second set of strings (separated by commas): 7,1,8,9\n",
            "Elements present in the first set but not in the second set: {'3', '6'}\n"
          ]
        }
      ]
    },
    {
      "cell_type": "markdown",
      "source": [
        "Q25.**Create a code that takes a tuple and two integers as input. The function should return a new tuple\n",
        "containing elements from the original tuple within the specified range of indices.**\n"
      ],
      "metadata": {
        "id": "p6d5byG76XHc"
      }
    },
    {
      "cell_type": "code",
      "source": [
        "def slice_tuple(tuple_input, start_index, end_index):\n",
        "  \"\"\"Slices a tuple within a specified range of indices.\n",
        "\n",
        "  Args:\n",
        "    tuple_input: The input tuple.\n",
        "    start_index: The starting index (inclusive).\n",
        "    end_index: The ending index (exclusive).\n",
        "\n",
        "  Returns:\n",
        "    A new tuple containing elements from the original tuple within the specified range.\n",
        "  \"\"\"\n",
        "\n",
        "  return tuple_input[start_index:end_index]\n",
        "\n",
        "# Example usage:\n",
        "my_tuple = (1, 2, 3, 4, 5)\n",
        "start_index = 1\n",
        "end_index = 4\n",
        "sliced_tuple = slice_tuple(my_tuple, start_index, end_index)\n",
        "print(sliced_tuple)"
      ],
      "metadata": {
        "colab": {
          "base_uri": "https://localhost:8080/"
        },
        "id": "k_Jzebew5g6E",
        "outputId": "819ccd82-d3db-488d-8242-4ba4388b25d8"
      },
      "execution_count": null,
      "outputs": [
        {
          "output_type": "stream",
          "name": "stdout",
          "text": [
            "(2, 3, 4)\n"
          ]
        }
      ]
    },
    {
      "cell_type": "markdown",
      "source": [
        "**Q26.Write code that prompts the user to input two sets of characters. Then print the union of these two sets.**\n"
      ],
      "metadata": {
        "id": "gZXS_RzoVMR5"
      }
    },
    {
      "cell_type": "code",
      "source": [
        "def get_character_set(prompt):\n",
        "  while True:\n",
        "    try:\n",
        "      input_str = input(prompt)\n",
        "      elements = list(input_str)\n",
        "      return set(elements)\n",
        "    except ValueError:\n",
        "      print(\"Invalid input. Please enter characters separated by commas.\")\n",
        "\n",
        "def find_union(set1, set2):\n",
        "  return set1.union(set2)\n",
        "\n",
        "# Get input from the user\n",
        "set1 = get_character_set(\"Enter the first set of characters (separated by commas): \")\n",
        "set2 = get_character_set(\"Enter the second set of characters (separated by commas): \")\n",
        "\n",
        "# Find the union\n",
        "union = find_union(set1, set2)\n",
        "\n",
        "# Print the result\n",
        "print(\"Union of the two sets:\", union)"
      ],
      "metadata": {
        "colab": {
          "base_uri": "https://localhost:8080/"
        },
        "id": "UMNODrik76Oy",
        "outputId": "1c1d93a9-e760-4c72-b76c-a558c410fa94"
      },
      "execution_count": null,
      "outputs": [
        {
          "output_type": "stream",
          "name": "stdout",
          "text": [
            "Enter the first set of characters (separated by commas): 1,3,4,5,6\n",
            "Enter the second set of characters (separated by commas): 4,5,7,8\n",
            "Union of the two sets: {'4', '6', '5', ',', '1', '8', '7', '3'}\n"
          ]
        }
      ]
    },
    {
      "cell_type": "markdown",
      "source": [
        "**Q27.Develop a code that takes a tuple of integers as input. The function should return the maximum and\n",
        "minimum values from the tuple using tuple unpacking**"
      ],
      "metadata": {
        "id": "HSIrLEylYtj-"
      }
    },
    {
      "cell_type": "code",
      "source": [
        "def find_max_min(tuple_input):\n",
        "  max_value = min_value = tuple_input[0]\n",
        "  for element in tuple_input:\n",
        "    if element > max_value:\n",
        "      max_value = element\n",
        "    if element < min_value:\n",
        "      min_value = element\n",
        "  return max_value, min_value\n",
        "\n",
        "# Example usage:\n",
        "my_tuple = (10, 5, 20, 3, 15)\n",
        "max_value, min_value = find_max_min(my_tuple)\n",
        "print(\"Maximum value:\", max_value)\n",
        "print(\"Minimum value:\", min_value)"
      ],
      "metadata": {
        "colab": {
          "base_uri": "https://localhost:8080/"
        },
        "id": "DuNQMh8ZlMn8",
        "outputId": "c0874f15-7a60-4166-b367-be1761bc8eb4"
      },
      "execution_count": null,
      "outputs": [
        {
          "output_type": "stream",
          "name": "stdout",
          "text": [
            "Maximum value: 20\n",
            "Minimum value: 3\n"
          ]
        }
      ]
    },
    {
      "cell_type": "markdown",
      "source": [
        "**Q28. Create a code that defines two sets of integers. Then print the union intersection and difference of these\n",
        "two sets.**"
      ],
      "metadata": {
        "id": "L0HLDzrgnMxQ"
      }
    },
    {
      "cell_type": "code",
      "source": [
        "def find_union_intersection_difference(set1, set2):\n",
        "  union = set1.union(set2)\n",
        "  intersection = set1.intersection(set2)\n",
        "  difference = set1 - set2\n",
        "\n",
        "  return union, intersection, difference\n",
        "\n",
        "def get_integer_set(prompt):\n",
        "  while True:\n",
        "    try:\n",
        "      input_str = input(prompt)\n",
        "      elements = [int(x) for x in input_str.split(\",\")]\n",
        "      return set(elements)\n",
        "    except ValueError:\n",
        "      print(\"Invalid input. Please enter integers separated by commas.\")\n",
        "\n",
        "# Get input from the user\n",
        "set1 = get_integer_set(\"Enter the first set of integers (separated by commas): \")\n",
        "set2 = get_integer_set(\"Enter the second set of integers (separated by commas): \")\n",
        "\n",
        "# Find the union, intersection, and difference\n",
        "union, intersection, difference = find_union_intersection_difference(set1, set2)\n",
        "\n",
        "# Print the results\n",
        "print(\"Union:\", union)\n",
        "print(\"Intersection:\", intersection)\n",
        "print(\"Difference:\", difference)"
      ],
      "metadata": {
        "colab": {
          "base_uri": "https://localhost:8080/"
        },
        "id": "UXevNbb7lawS",
        "outputId": "76ea70cf-f8be-4959-8485-730f1bd4e2df"
      },
      "execution_count": null,
      "outputs": [
        {
          "output_type": "stream",
          "name": "stdout",
          "text": [
            "Enter the first set of integers (separated by commas): 5,6,7,8,1,2\n",
            "Enter the second set of integers (separated by commas): 6,8,9,4,3\n",
            "Union: {1, 2, 3, 4, 5, 6, 7, 8, 9}\n",
            "Intersection: {8, 6}\n",
            "Difference: {1, 2, 5, 7}\n"
          ]
        }
      ]
    },
    {
      "cell_type": "markdown",
      "source": [
        "**Q29. Write a code that takes a tuple and an element as input. The function should return the count of\n",
        "occurrences of the given element in the tuple.**"
      ],
      "metadata": {
        "id": "GzoZ8bTXqJAh"
      }
    },
    {
      "cell_type": "code",
      "source": [
        "def count_occurrences(tuple_input, element):\n",
        "  count = 0\n",
        "  for item in tuple_input:\n",
        "    if item == element:\n",
        "      count += 1\n",
        "  return count\n",
        "\n",
        "# Example usage:\n",
        "my_tuple = (1, 2, 3, 2, 4, 1, 5)\n",
        "element_to_count = 2\n",
        "count = count_occurrences(my_tuple, element_to_count)\n",
        "print(\"Count of occurrences:\", count)"
      ],
      "metadata": {
        "colab": {
          "base_uri": "https://localhost:8080/"
        },
        "id": "B5j0ZcPXpo94",
        "outputId": "482c3010-dd7f-4460-83cf-627a1a304161"
      },
      "execution_count": null,
      "outputs": [
        {
          "output_type": "stream",
          "name": "stdout",
          "text": [
            "Count of occurrences: 2\n"
          ]
        }
      ]
    },
    {
      "cell_type": "markdown",
      "source": [
        "**Q30. Develop a code that prompts the user to input two sets of strings. Then print the symmetric difference of\n",
        "these two sets.**\n"
      ],
      "metadata": {
        "id": "cJIXiFKPtTrJ"
      }
    },
    {
      "cell_type": "code",
      "source": [
        "def find_symmetric_difference(set1, set2):\n",
        "\n",
        "  return set1 ^ set2\n",
        "\n",
        "def get_string_set(prompt):\n",
        "  while True:\n",
        "    try:\n",
        "      input_str = input(prompt)\n",
        "      elements = input_str.split(\",\")\n",
        "      return set(elements)\n",
        "    except ValueError:\n",
        "      print(\"Invalid input. Please enter strings separated by commas.\")\n",
        "\n",
        "# Get input from the user\n",
        "set1 = get_string_set(\"Enter the first set of strings (separated by commas): \")\n",
        "set2 = get_string_set(\"Enter the second set of strings (separated by commas): \")\n",
        "\n",
        "# Find the symmetric difference\n",
        "symmetric_difference = find_symmetric_difference(set1, set2)\n",
        "\n",
        "# Print the result\n",
        "print(\"Symmetric difference of the two sets:\", symmetric_difference)"
      ],
      "metadata": {
        "colab": {
          "base_uri": "https://localhost:8080/"
        },
        "id": "7b5z1e8hrbIc",
        "outputId": "2f64e55a-a2a1-48fa-fad7-fea4cf99867a"
      },
      "execution_count": null,
      "outputs": [
        {
          "output_type": "stream",
          "name": "stdout",
          "text": [
            "Enter the first set of strings (separated by commas): a,b,t,e,v\n",
            "Enter the second set of strings (separated by commas): t,b,h,q\n",
            "Symmetric difference of the two sets: {'h', 'q', 'e', 'v', 'a'}\n"
          ]
        }
      ]
    },
    {
      "cell_type": "markdown",
      "source": [
        "**Q31. Write a code that takes a list of words as input and returns a dictionary where the keys are unique words\n",
        "and the values are the frequencies of those words in the input list.**"
      ],
      "metadata": {
        "id": "XUmss1hZ0n3b"
      }
    },
    {
      "cell_type": "code",
      "source": [
        "def word_frequency(word_list):\n",
        "  word_count = {}\n",
        "  for word in word_list:\n",
        "    word_count[word] = word_count.get(word, 0) + 1\n",
        "  return word_count\n",
        "\n",
        "# Example usage:\n",
        "words = [\"apple\", \"banana\", \"apple\", \"orange\", \"banana\", \"banana\"]\n",
        "frequency_dict = word_frequency(words)\n",
        "print(frequency_dict)"
      ],
      "metadata": {
        "colab": {
          "base_uri": "https://localhost:8080/"
        },
        "id": "hbJaAeWo0WbO",
        "outputId": "349d262b-c750-4888-db47-668c37dfe3b2"
      },
      "execution_count": null,
      "outputs": [
        {
          "output_type": "stream",
          "name": "stdout",
          "text": [
            "{'apple': 2, 'banana': 3, 'orange': 1}\n"
          ]
        }
      ]
    },
    {
      "cell_type": "markdown",
      "source": [
        "**Q32. Write a code that takes two dictionaries as input and merges them into a single dictionary. If there are\n",
        "common keys the values should be added together.**"
      ],
      "metadata": {
        "id": "VWcNizmG16JB"
      }
    },
    {
      "cell_type": "code",
      "source": [
        "def merge_dictionaries(dict1, dict2):\n",
        "  merged_dict = dict1.copy()\n",
        "  for key, value in dict2.items():\n",
        "    if key in merged_dict:\n",
        "      merged_dict[key] += value\n",
        "    else:\n",
        "      merged_dict[key] = value\n",
        "  return merged_dict\n",
        "\n",
        "# Example usage:\n",
        "dict1 = {\"a\": 1, \"b\": 2, \"c\": 3}\n",
        "dict2 = {\"b\": 4, \"d\": 5}\n",
        "merged_dict = merge_dictionaries(dict1, dict2)\n",
        "print(merged_dict)"
      ],
      "metadata": {
        "colab": {
          "base_uri": "https://localhost:8080/"
        },
        "id": "1U0wdTKG1xtz",
        "outputId": "2df63ee3-d1e9-4dad-cb7f-aa6c09a3c05b"
      },
      "execution_count": null,
      "outputs": [
        {
          "output_type": "stream",
          "name": "stdout",
          "text": [
            "{'a': 1, 'b': 6, 'c': 3, 'd': 5}\n"
          ]
        }
      ]
    },
    {
      "cell_type": "markdown",
      "source": [
        "**Q33. Write a code to access a valus in a nested dictionary. The function should take the dictionary and a list of\n",
        "keys as input and return the corresponding value. If any of the key do not exist in the dictionary the\n",
        "function should return None.**"
      ],
      "metadata": {
        "id": "0Vpo_v5S3PKa"
      }
    },
    {
      "cell_type": "code",
      "source": [
        "def get_nested_value(dictionary, keys):\n",
        "  current_dict = dictionary\n",
        "  for key in keys:\n",
        "    if key not in current_dict:\n",
        "      return None\n",
        "    current_dict = current_dict[key]\n",
        "  return current_dict\n",
        "\n",
        "# Example usage:\n",
        "nested_dict = {\n",
        "    \"a\": {\n",
        "        \"b\": {\n",
        "            \"c\": \"value\"\n",
        "        }\n",
        "    }\n",
        "}\n",
        "keys = [\"a\", \"b\", \"c\"]\n",
        "value = get_nested_value(nested_dict, keys)\n",
        "print(value)"
      ],
      "metadata": {
        "colab": {
          "base_uri": "https://localhost:8080/"
        },
        "id": "KeFbatHF2rJ_",
        "outputId": "83581594-541e-4d99-d643-eb5d58a9d72c"
      },
      "execution_count": null,
      "outputs": [
        {
          "output_type": "stream",
          "name": "stdout",
          "text": [
            "value\n"
          ]
        }
      ]
    },
    {
      "cell_type": "markdown",
      "source": [
        "**Q34. Write a code that takes a dictionary as input and returns a sorted version of it based on the values. You\n",
        "can choose whether to sort in ascending or descending order.**"
      ],
      "metadata": {
        "id": "aibjIPlT4zla"
      }
    },
    {
      "cell_type": "code",
      "source": [
        "def sort_dictionary_by_values(dictionary, ascending=True):\n",
        "  sorted_items = sorted(dictionary.items(), key=lambda item: item[1], reverse=not ascending)\n",
        "  return sorted_items\n",
        "\n",
        "# Example usage:\n",
        "my_dict = {\"a\": 3, \"b\": 5, \"c\": 2}\n",
        "sorted_items = sort_dictionary_by_values(my_dict)\n",
        "print(sorted_items)"
      ],
      "metadata": {
        "colab": {
          "base_uri": "https://localhost:8080/"
        },
        "id": "6IjRDK-f4VGe",
        "outputId": "cc445934-9755-4f0f-8cd8-afee0d67e2c7"
      },
      "execution_count": null,
      "outputs": [
        {
          "output_type": "stream",
          "name": "stdout",
          "text": [
            "[('c', 2), ('a', 3), ('b', 5)]\n"
          ]
        }
      ]
    },
    {
      "cell_type": "markdown",
      "source": [
        "**Q35. Write a code that inverts a dictionary swapping keys and values. Ensure that the inverted dictionary\n",
        "correctly handles cases where multiple keys have the same value by storing the keys as a list in the\n",
        "inverted dictionary.**"
      ],
      "metadata": {
        "id": "1YZnMm8N52Qd"
      }
    },
    {
      "cell_type": "code",
      "source": [
        "def invert_dictionary(dictionary):\n",
        "  inverted_dict = {}\n",
        "  for key, value in dictionary.items():\n",
        "    if value in inverted_dict:\n",
        "      inverted_dict[value].append(key)\n",
        "    else:\n",
        "      inverted_dict[value] = [key]\n",
        "  return inverted_dict\n",
        "\n",
        "# Example usage:\n",
        "original_dict = {\"a\": 1, \"b\": 2, \"c\": 2}\n",
        "inverted_dict = invert_dictionary(original_dict)\n",
        "print(inverted_dict)  # Output: {1: ['a'], 2: ['b', 'c']}"
      ],
      "metadata": {
        "colab": {
          "base_uri": "https://localhost:8080/"
        },
        "id": "nzSg9GjP5lza",
        "outputId": "f60c51f5-a3ce-46af-9675-2d3f5a7949e6"
      },
      "execution_count": null,
      "outputs": [
        {
          "output_type": "stream",
          "name": "stdout",
          "text": [
            "{1: ['a'], 2: ['b', 'c']}\n"
          ]
        }
      ]
    },
    {
      "cell_type": "code",
      "source": [],
      "metadata": {
        "id": "K1rBh6FA7WYA"
      },
      "execution_count": null,
      "outputs": []
    }
  ]
}